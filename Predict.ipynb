{
 "cells": [
  {
   "cell_type": "code",
   "execution_count": null,
   "id": "e8cdc94a-213b-45cc-9586-3a404fa501fe",
   "metadata": {},
   "outputs": [],
   "source": [
    "import pandas as pd\n",
    "from sklearn.linear_model import LinearRegression\n",
    "data = pd.DataFrame({\n",
    "    'size': [50, 70, 90, 120] , \n",
    "    'price': [100, 140, 180, 240]\n",
    "})\n",
    "x= data[['size']]\n",
    "y=data[['price']]\n",
    "model= LinearRegression()\n",
    "model.fit(x,y)\n",
    "print(\"price for 100m²: \" , model.predict([[100]]))"
   ]
  }
 ],
 "metadata": {
  "kernelspec": {
   "display_name": "Python 3 (ipykernel)",
   "language": "python",
   "name": "python3"
  },
  "language_info": {
   "codemirror_mode": {
    "name": "ipython",
    "version": 3
   },
   "file_extension": ".py",
   "mimetype": "text/x-python",
   "name": "python",
   "nbconvert_exporter": "python",
   "pygments_lexer": "ipython3",
   "version": "3.13.2"
  }
 },
 "nbformat": 4,
 "nbformat_minor": 5
}
